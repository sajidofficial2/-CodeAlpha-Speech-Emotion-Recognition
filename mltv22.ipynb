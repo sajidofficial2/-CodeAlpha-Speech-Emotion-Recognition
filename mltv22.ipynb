{
  "nbformat": 4,
  "nbformat_minor": 0,
  "metadata": {
    "colab": {
      "provenance": []
    },
    "kernelspec": {
      "name": "python3",
      "display_name": "Python 3"
    },
    "language_info": {
      "name": "python"
    }
  },
  "cells": [
    {
      "cell_type": "code",
      "source": [
        "# ============================================\n",
        "# FINAL TASK 2 - Light Version (Colab-Safe)\n",
        "# ============================================\n",
        "\n",
        "!pip install -q resampy librosa soundfile scikit-learn matplotlib tensorflow\n",
        "\n",
        "import os, zipfile, glob, warnings\n",
        "warnings.filterwarnings(\"ignore\")\n",
        "\n",
        "import numpy as np\n",
        "import matplotlib.pyplot as plt\n",
        "import librosa\n",
        "from sklearn.model_selection import train_test_split\n",
        "from sklearn.preprocessing import LabelEncoder\n",
        "from sklearn.metrics import classification_report, confusion_matrix\n",
        "import tensorflow as tf\n",
        "from tensorflow.keras.models import Sequential\n",
        "from tensorflow.keras.layers import LSTM, Dense, Dropout\n",
        "\n",
        "# ----------------------------\n",
        "# 1) Download & extract RAVDESS\n",
        "# ----------------------------\n",
        "RAVDESS_URL = \"https://zenodo.org/record/1188976/files/Audio_Speech_Actors_01-24.zip?download=1\"\n",
        "RAVDESS_ZIP = \"ravdess_speech.zip\"\n",
        "EXTRACT_DIR = \"ravdess_speech\"\n",
        "\n",
        "if not os.path.exists(EXTRACT_DIR):\n",
        "    print(\"📥 Downloading RAVDESS dataset...\")\n",
        "    !wget -q -O $RAVDESS_ZIP $RAVDESS_URL\n",
        "    with zipfile.ZipFile(RAVDESS_ZIP, 'r') as zip_ref:\n",
        "        zip_ref.extractall(EXTRACT_DIR)\n",
        "\n",
        "wav_files = sorted(glob.glob(os.path.join(EXTRACT_DIR, \"Actor_*\", \"*.wav\")))\n",
        "print(f\"🎵 Found {len(wav_files)} audio files.\")\n",
        "\n",
        "# ----------------------------\n",
        "# 2) Emotion mapping\n",
        "# ----------------------------\n",
        "emotion_map = {\n",
        "    \"01\": \"neutral\", \"02\": \"calm\", \"03\": \"happy\", \"04\": \"sad\",\n",
        "    \"05\": \"angry\", \"06\": \"fearful\", \"07\": \"disgust\", \"08\": \"surprised\"\n",
        "}\n",
        "\n",
        "def emotion_from_filename(fname):\n",
        "    em_code = os.path.basename(fname).split(\"-\")[2]\n",
        "    return emotion_map.get(em_code)\n",
        "\n",
        "# Limit samples for stability\n",
        "PER_CLASS_LIMIT = 50\n",
        "files_by_label = {}\n",
        "for f in wav_files:\n",
        "    label = emotion_from_filename(f)\n",
        "    files_by_label.setdefault(label, []).append(f)\n",
        "\n",
        "selected_files = []\n",
        "for label, files in files_by_label.items():\n",
        "    selected_files.extend(files[:PER_CLASS_LIMIT])\n",
        "\n",
        "print(\"📊 Class distribution:\")\n",
        "for label in sorted(files_by_label.keys()):\n",
        "    count = sum(1 for f in selected_files if emotion_from_filename(f) == label)\n",
        "    print(f\"{label:10s}: {count}\")\n",
        "\n",
        "# ----------------------------\n",
        "# 3) Feature extraction (MFCC)\n",
        "# ----------------------------\n",
        "N_MFCC = 40\n",
        "MAX_PAD_LEN = 216\n",
        "SR = 22050\n",
        "\n",
        "def extract_mfcc(file_path):\n",
        "    y, sr = librosa.load(file_path, sr=SR, res_type=\"kaiser_fast\")\n",
        "    if np.max(np.abs(y)) > 0:\n",
        "        y = y / np.max(np.abs(y))\n",
        "    mfcc = librosa.feature.mfcc(y=y, sr=sr, n_mfcc=N_MFCC)\n",
        "    if mfcc.shape[1] < MAX_PAD_LEN:\n",
        "        mfcc = np.pad(mfcc, ((0, 0), (0, MAX_PAD_LEN - mfcc.shape[1])), mode='constant')\n",
        "    else:\n",
        "        mfcc = mfcc[:, :MAX_PAD_LEN]\n",
        "    return mfcc\n",
        "\n",
        "X_list, y_list = [], []\n",
        "for f in selected_files:\n",
        "    mfcc = extract_mfcc(f)\n",
        "    X_list.append(mfcc)\n",
        "    y_list.append(emotion_from_filename(f))\n",
        "\n",
        "X = np.array(X_list, dtype=np.float32)\n",
        "labels = np.array(y_list)\n",
        "print(f\"\\n✅ Final dataset: {X.shape[0]} samples, shape {X.shape}\")\n",
        "\n",
        "# Transpose to (samples, frames, mfcc)\n",
        "X = X.transpose(0, 2, 1)\n",
        "\n",
        "# Encode labels\n",
        "le = LabelEncoder()\n",
        "y_int = le.fit_transform(labels)\n",
        "y = tf.keras.utils.to_categorical(y_int, num_classes=len(le.classes_))\n",
        "\n",
        "# ----------------------------\n",
        "# 4) Train/Test split\n",
        "# ----------------------------\n",
        "X_train, X_test, y_train, y_test = train_test_split(\n",
        "    X, y, test_size=0.2, random_state=42, stratify=y_int\n",
        ")\n",
        "\n",
        "# ----------------------------\n",
        "# 5) LSTM Model\n",
        "# ----------------------------\n",
        "model = Sequential([\n",
        "    LSTM(64, input_shape=(X.shape[1], X.shape[2])),\n",
        "    Dropout(0.3),\n",
        "    Dense(32, activation=\"relu\"),\n",
        "    Dropout(0.3),\n",
        "    Dense(len(le.classes_), activation=\"softmax\")\n",
        "])\n",
        "\n",
        "model.compile(optimizer=\"adam\", loss=\"categorical_crossentropy\", metrics=[\"accuracy\"])\n",
        "model.summary()\n",
        "\n",
        "history = model.fit(X_train, y_train, validation_data=(X_test, y_test),\n",
        "                    epochs=10, batch_size=16, verbose=1)\n",
        "\n",
        "# ----------------------------\n",
        "# 6) Evaluation\n",
        "# ----------------------------\n",
        "y_pred_probs = model.predict(X_test)\n",
        "y_pred = np.argmax(y_pred_probs, axis=1)\n",
        "y_true = np.argmax(y_test, axis=1)\n",
        "\n",
        "print(\"\\n📄 Classification Report:\")\n",
        "print(classification_report(y_true, y_pred, target_names=le.classes_))\n",
        "\n",
        "cm = confusion_matrix(y_true, y_pred)\n",
        "plt.figure(figsize=(8,6))\n",
        "plt.imshow(cm, cmap=\"Blues\")\n",
        "plt.xticks(range(len(le.classes_)), le.classes_, rotation=45)\n",
        "plt.yticks(range(len(le.classes_)), le.classes_)\n",
        "for (i, j), val in np.ndenumerate(cm):\n",
        "    plt.text(j, i, str(val), ha='center', va='center')\n",
        "plt.xlabel(\"Predicted\")\n",
        "plt.ylabel(\"Actual\")\n",
        "plt.title(\"Confusion Matrix\")\n",
        "plt.show()\n"
      ],
      "metadata": {
        "colab": {
          "base_uri": "https://localhost:8080/",
          "height": 1000
        },
        "id": "DCJZOt1Tz9bs",
        "outputId": "971be206-817a-4784-d4f7-f3e7ced6cd4f"
      },
      "execution_count": 1,
      "outputs": [
        {
          "output_type": "stream",
          "name": "stdout",
          "text": [
            "🎵 Found 1440 audio files.\n",
            "📊 Class distribution:\n",
            "angry     : 50\n",
            "calm      : 50\n",
            "disgust   : 50\n",
            "fearful   : 50\n",
            "happy     : 50\n",
            "neutral   : 50\n",
            "sad       : 50\n",
            "surprised : 50\n",
            "\n",
            "✅ Final dataset: 400 samples, shape (400, 40, 216)\n"
          ]
        },
        {
          "output_type": "display_data",
          "data": {
            "text/plain": [
              "\u001b[1mModel: \"sequential\"\u001b[0m\n"
            ],
            "text/html": [
              "<pre style=\"white-space:pre;overflow-x:auto;line-height:normal;font-family:Menlo,'DejaVu Sans Mono',consolas,'Courier New',monospace\"><span style=\"font-weight: bold\">Model: \"sequential\"</span>\n",
              "</pre>\n"
            ]
          },
          "metadata": {}
        },
        {
          "output_type": "display_data",
          "data": {
            "text/plain": [
              "┏━━━━━━━━━━━━━━━━━━━━━━━━━━━━━━━━━┳━━━━━━━━━━━━━━━━━━━━━━━━┳━━━━━━━━━━━━━━━┓\n",
              "┃\u001b[1m \u001b[0m\u001b[1mLayer (type)                   \u001b[0m\u001b[1m \u001b[0m┃\u001b[1m \u001b[0m\u001b[1mOutput Shape          \u001b[0m\u001b[1m \u001b[0m┃\u001b[1m \u001b[0m\u001b[1m      Param #\u001b[0m\u001b[1m \u001b[0m┃\n",
              "┡━━━━━━━━━━━━━━━━━━━━━━━━━━━━━━━━━╇━━━━━━━━━━━━━━━━━━━━━━━━╇━━━━━━━━━━━━━━━┩\n",
              "│ lstm (\u001b[38;5;33mLSTM\u001b[0m)                     │ (\u001b[38;5;45mNone\u001b[0m, \u001b[38;5;34m64\u001b[0m)             │        \u001b[38;5;34m26,880\u001b[0m │\n",
              "├─────────────────────────────────┼────────────────────────┼───────────────┤\n",
              "│ dropout (\u001b[38;5;33mDropout\u001b[0m)               │ (\u001b[38;5;45mNone\u001b[0m, \u001b[38;5;34m64\u001b[0m)             │             \u001b[38;5;34m0\u001b[0m │\n",
              "├─────────────────────────────────┼────────────────────────┼───────────────┤\n",
              "│ dense (\u001b[38;5;33mDense\u001b[0m)                   │ (\u001b[38;5;45mNone\u001b[0m, \u001b[38;5;34m32\u001b[0m)             │         \u001b[38;5;34m2,080\u001b[0m │\n",
              "├─────────────────────────────────┼────────────────────────┼───────────────┤\n",
              "│ dropout_1 (\u001b[38;5;33mDropout\u001b[0m)             │ (\u001b[38;5;45mNone\u001b[0m, \u001b[38;5;34m32\u001b[0m)             │             \u001b[38;5;34m0\u001b[0m │\n",
              "├─────────────────────────────────┼────────────────────────┼───────────────┤\n",
              "│ dense_1 (\u001b[38;5;33mDense\u001b[0m)                 │ (\u001b[38;5;45mNone\u001b[0m, \u001b[38;5;34m8\u001b[0m)              │           \u001b[38;5;34m264\u001b[0m │\n",
              "└─────────────────────────────────┴────────────────────────┴───────────────┘\n"
            ],
            "text/html": [
              "<pre style=\"white-space:pre;overflow-x:auto;line-height:normal;font-family:Menlo,'DejaVu Sans Mono',consolas,'Courier New',monospace\">┏━━━━━━━━━━━━━━━━━━━━━━━━━━━━━━━━━┳━━━━━━━━━━━━━━━━━━━━━━━━┳━━━━━━━━━━━━━━━┓\n",
              "┃<span style=\"font-weight: bold\"> Layer (type)                    </span>┃<span style=\"font-weight: bold\"> Output Shape           </span>┃<span style=\"font-weight: bold\">       Param # </span>┃\n",
              "┡━━━━━━━━━━━━━━━━━━━━━━━━━━━━━━━━━╇━━━━━━━━━━━━━━━━━━━━━━━━╇━━━━━━━━━━━━━━━┩\n",
              "│ lstm (<span style=\"color: #0087ff; text-decoration-color: #0087ff\">LSTM</span>)                     │ (<span style=\"color: #00d7ff; text-decoration-color: #00d7ff\">None</span>, <span style=\"color: #00af00; text-decoration-color: #00af00\">64</span>)             │        <span style=\"color: #00af00; text-decoration-color: #00af00\">26,880</span> │\n",
              "├─────────────────────────────────┼────────────────────────┼───────────────┤\n",
              "│ dropout (<span style=\"color: #0087ff; text-decoration-color: #0087ff\">Dropout</span>)               │ (<span style=\"color: #00d7ff; text-decoration-color: #00d7ff\">None</span>, <span style=\"color: #00af00; text-decoration-color: #00af00\">64</span>)             │             <span style=\"color: #00af00; text-decoration-color: #00af00\">0</span> │\n",
              "├─────────────────────────────────┼────────────────────────┼───────────────┤\n",
              "│ dense (<span style=\"color: #0087ff; text-decoration-color: #0087ff\">Dense</span>)                   │ (<span style=\"color: #00d7ff; text-decoration-color: #00d7ff\">None</span>, <span style=\"color: #00af00; text-decoration-color: #00af00\">32</span>)             │         <span style=\"color: #00af00; text-decoration-color: #00af00\">2,080</span> │\n",
              "├─────────────────────────────────┼────────────────────────┼───────────────┤\n",
              "│ dropout_1 (<span style=\"color: #0087ff; text-decoration-color: #0087ff\">Dropout</span>)             │ (<span style=\"color: #00d7ff; text-decoration-color: #00d7ff\">None</span>, <span style=\"color: #00af00; text-decoration-color: #00af00\">32</span>)             │             <span style=\"color: #00af00; text-decoration-color: #00af00\">0</span> │\n",
              "├─────────────────────────────────┼────────────────────────┼───────────────┤\n",
              "│ dense_1 (<span style=\"color: #0087ff; text-decoration-color: #0087ff\">Dense</span>)                 │ (<span style=\"color: #00d7ff; text-decoration-color: #00d7ff\">None</span>, <span style=\"color: #00af00; text-decoration-color: #00af00\">8</span>)              │           <span style=\"color: #00af00; text-decoration-color: #00af00\">264</span> │\n",
              "└─────────────────────────────────┴────────────────────────┴───────────────┘\n",
              "</pre>\n"
            ]
          },
          "metadata": {}
        },
        {
          "output_type": "display_data",
          "data": {
            "text/plain": [
              "\u001b[1m Total params: \u001b[0m\u001b[38;5;34m29,224\u001b[0m (114.16 KB)\n"
            ],
            "text/html": [
              "<pre style=\"white-space:pre;overflow-x:auto;line-height:normal;font-family:Menlo,'DejaVu Sans Mono',consolas,'Courier New',monospace\"><span style=\"font-weight: bold\"> Total params: </span><span style=\"color: #00af00; text-decoration-color: #00af00\">29,224</span> (114.16 KB)\n",
              "</pre>\n"
            ]
          },
          "metadata": {}
        },
        {
          "output_type": "display_data",
          "data": {
            "text/plain": [
              "\u001b[1m Trainable params: \u001b[0m\u001b[38;5;34m29,224\u001b[0m (114.16 KB)\n"
            ],
            "text/html": [
              "<pre style=\"white-space:pre;overflow-x:auto;line-height:normal;font-family:Menlo,'DejaVu Sans Mono',consolas,'Courier New',monospace\"><span style=\"font-weight: bold\"> Trainable params: </span><span style=\"color: #00af00; text-decoration-color: #00af00\">29,224</span> (114.16 KB)\n",
              "</pre>\n"
            ]
          },
          "metadata": {}
        },
        {
          "output_type": "display_data",
          "data": {
            "text/plain": [
              "\u001b[1m Non-trainable params: \u001b[0m\u001b[38;5;34m0\u001b[0m (0.00 B)\n"
            ],
            "text/html": [
              "<pre style=\"white-space:pre;overflow-x:auto;line-height:normal;font-family:Menlo,'DejaVu Sans Mono',consolas,'Courier New',monospace\"><span style=\"font-weight: bold\"> Non-trainable params: </span><span style=\"color: #00af00; text-decoration-color: #00af00\">0</span> (0.00 B)\n",
              "</pre>\n"
            ]
          },
          "metadata": {}
        },
        {
          "output_type": "stream",
          "name": "stdout",
          "text": [
            "Epoch 1/10\n",
            "\u001b[1m20/20\u001b[0m \u001b[32m━━━━━━━━━━━━━━━━━━━━\u001b[0m\u001b[37m\u001b[0m \u001b[1m4s\u001b[0m 80ms/step - accuracy: 0.0833 - loss: 2.0794 - val_accuracy: 0.1625 - val_loss: 2.0747\n",
            "Epoch 2/10\n",
            "\u001b[1m20/20\u001b[0m \u001b[32m━━━━━━━━━━━━━━━━━━━━\u001b[0m\u001b[37m\u001b[0m \u001b[1m2s\u001b[0m 65ms/step - accuracy: 0.1669 - loss: 2.0721 - val_accuracy: 0.2125 - val_loss: 2.0474\n",
            "Epoch 3/10\n",
            "\u001b[1m20/20\u001b[0m \u001b[32m━━━━━━━━━━━━━━━━━━━━\u001b[0m\u001b[37m\u001b[0m \u001b[1m1s\u001b[0m 62ms/step - accuracy: 0.1773 - loss: 2.0319 - val_accuracy: 0.2000 - val_loss: 2.0086\n",
            "Epoch 4/10\n",
            "\u001b[1m20/20\u001b[0m \u001b[32m━━━━━━━━━━━━━━━━━━━━\u001b[0m\u001b[37m\u001b[0m \u001b[1m1s\u001b[0m 63ms/step - accuracy: 0.2105 - loss: 1.9857 - val_accuracy: 0.1375 - val_loss: 1.9414\n",
            "Epoch 5/10\n",
            "\u001b[1m20/20\u001b[0m \u001b[32m━━━━━━━━━━━━━━━━━━━━\u001b[0m\u001b[37m\u001b[0m \u001b[1m2s\u001b[0m 111ms/step - accuracy: 0.1766 - loss: 1.9522 - val_accuracy: 0.1875 - val_loss: 1.9038\n",
            "Epoch 6/10\n",
            "\u001b[1m20/20\u001b[0m \u001b[32m━━━━━━━━━━━━━━━━━━━━\u001b[0m\u001b[37m\u001b[0m \u001b[1m2s\u001b[0m 64ms/step - accuracy: 0.2040 - loss: 1.9062 - val_accuracy: 0.2375 - val_loss: 1.8839\n",
            "Epoch 7/10\n",
            "\u001b[1m20/20\u001b[0m \u001b[32m━━━━━━━━━━━━━━━━━━━━\u001b[0m\u001b[37m\u001b[0m \u001b[1m1s\u001b[0m 64ms/step - accuracy: 0.2312 - loss: 1.8659 - val_accuracy: 0.2375 - val_loss: 1.8621\n",
            "Epoch 8/10\n",
            "\u001b[1m20/20\u001b[0m \u001b[32m━━━━━━━━━━━━━━━━━━━━\u001b[0m\u001b[37m\u001b[0m \u001b[1m3s\u001b[0m 62ms/step - accuracy: 0.2458 - loss: 1.7905 - val_accuracy: 0.2000 - val_loss: 1.8198\n",
            "Epoch 9/10\n",
            "\u001b[1m20/20\u001b[0m \u001b[32m━━━━━━━━━━━━━━━━━━━━\u001b[0m\u001b[37m\u001b[0m \u001b[1m1s\u001b[0m 63ms/step - accuracy: 0.2789 - loss: 1.7701 - val_accuracy: 0.2750 - val_loss: 1.7781\n",
            "Epoch 10/10\n",
            "\u001b[1m20/20\u001b[0m \u001b[32m━━━━━━━━━━━━━━━━━━━━\u001b[0m\u001b[37m\u001b[0m \u001b[1m2s\u001b[0m 61ms/step - accuracy: 0.2958 - loss: 1.7143 - val_accuracy: 0.2750 - val_loss: 1.8027\n",
            "\u001b[1m3/3\u001b[0m \u001b[32m━━━━━━━━━━━━━━━━━━━━\u001b[0m\u001b[37m\u001b[0m \u001b[1m0s\u001b[0m 110ms/step\n",
            "\n",
            "📄 Classification Report:\n",
            "              precision    recall  f1-score   support\n",
            "\n",
            "       angry       0.25      0.50      0.33        10\n",
            "        calm       0.38      0.60      0.46        10\n",
            "     disgust       0.00      0.00      0.00        10\n",
            "     fearful       0.33      0.30      0.32        10\n",
            "       happy       0.15      0.20      0.17        10\n",
            "     neutral       0.00      0.00      0.00        10\n",
            "         sad       0.00      0.00      0.00        10\n",
            "   surprised       0.43      0.60      0.50        10\n",
            "\n",
            "    accuracy                           0.28        80\n",
            "   macro avg       0.19      0.28      0.22        80\n",
            "weighted avg       0.19      0.28      0.22        80\n",
            "\n"
          ]
        },
        {
          "output_type": "display_data",
          "data": {
            "text/plain": [
              "<Figure size 800x600 with 1 Axes>"
            ],
            "image/png": "[encoded data removed]"
          },
          "metadata": {}
        }
      ]
    }
  ]
}